{
 "cells": [
  {
   "cell_type": "markdown",
   "metadata": {
    "vscode": {
     "languageId": "raw"
    }
   },
   "source": [
    "---\n",
    "toc: false\n",
    "comments: false\n",
    "layout: post\n",
    "title: Gameplay Features\n",
    "description: The tinkers and code behind each feature\n",
    "author: Nikhil Ekambaram, Zhengji Li, Ruhaan Bansal\n",
    "type: ccc\n",
    "---"
   ]
  },
  {
   "cell_type": "markdown",
   "metadata": {},
   "source": [
    "# Gameplay Tweaks/Tinkers\n",
    "\n",
    "This is where we should include tinkers and explanations in a notbook style articulation.\n",
    "\n",
    "Each feature should have 3 core components: An ideation segment, an image and brief explanation of the code, and few code cells with comments and brief summaries about how the code works. WE SHOULD BE ABLE TO EXPLAIN HOW TO REPLICATE THIS FEATURE IN AN ARBITRARY GAME."
   ]
  }
 ],
 "metadata": {
  "language_info": {
   "name": "python"
  }
 },
 "nbformat": 4,
 "nbformat_minor": 2
}
