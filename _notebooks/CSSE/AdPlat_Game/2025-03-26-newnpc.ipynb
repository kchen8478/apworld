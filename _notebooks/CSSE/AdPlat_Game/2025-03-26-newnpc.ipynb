{
 "cells": [
  {
   "cell_type": "markdown",
   "metadata": {},
   "source": [
    "---\n",
    "toc: false\n",
    "layout: post\n",
    "title: Index to Topics \n",
    "description: Build guide to the Adventure plus Platformer game.  Topics and help system to foster learning, discussion, and exploration of the game.\n",
    "categories: [Adventure plus Platformer Help (AdPlat)] \n",
    "permalink: /adplat/intro\n",
    "type: ccc \n",
    "categories: [AdPlat]\n",
    "author: insert here\n",
    "---"
   ]
  }
 ],
 "metadata": {
  "language_info": {
   "name": "python"
  }
 },
 "nbformat": 4,
 "nbformat_minor": 2
}
